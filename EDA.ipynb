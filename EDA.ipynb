{
 "cells": [
  {
   "cell_type": "markdown",
   "metadata": {},
   "source": [
    "### Test, Train and Cross Validation Split\n",
    "- we will have train : 70% data as we will get k fold cross validation too\n",
    "- test : 20%\n",
    "- cv : 10%"
   ]
  },
  {
   "cell_type": "code",
   "execution_count": 31,
   "metadata": {},
   "outputs": [],
   "source": [
    "import pandas as pd\n",
    "import matplotlib.pyplot as plt\n",
    "import seaborn as sns\n",
    "import numpy as np\n",
    "from sklearn.preprocessing import normalize\n",
    "from sklearn.feature_extraction.text import TfidfVectorizer\n",
    "\n",
    "%matplotlib inline"
   ]
  },
  {
   "cell_type": "code",
   "execution_count": 3,
   "metadata": {
    "collapsed": true
   },
   "outputs": [],
   "source": [
    "result = pd.read_csv(\"./data/cancer-treatment/result.csv\")"
   ]
  },
  {
   "cell_type": "code",
   "execution_count": 4,
   "metadata": {},
   "outputs": [],
   "source": [
    "y_true = result['Class'].values\n",
    "# replace space in Gene to undersccore\n",
    "result.Gene = result.Gene.str.replace('\\s+','_')\n",
    "result.Variation = result.Variation.str.replace('\\s+','_')\n",
    "from sklearn.model_selection import train_test_split"
   ]
  },
  {
   "cell_type": "code",
   "execution_count": 5,
   "metadata": {
    "collapsed": true
   },
   "outputs": [],
   "source": [
    "# splitting data into test and train by \n",
    "    # maintaining same distribution of output varaible 'y_true' [stratify=y_true]\n",
    "X_train, test_df, y_train, y_test = train_test_split(result, y_true, stratify=y_true, test_size=0.2)\n"
   ]
  },
  {
   "cell_type": "code",
   "execution_count": 6,
   "metadata": {
    "collapsed": true
   },
   "outputs": [],
   "source": [
    "# split the train data into train and cross validation by maintaining same distribution of output varaible 'y_train' [stratify=y_train]\n",
    "train_df, cv_df, y_train, y_cv = train_test_split(X_train, y_train, stratify=y_train, test_size=0.1)"
   ]
  },
  {
   "cell_type": "code",
   "execution_count": 7,
   "metadata": {},
   "outputs": [
    {
     "name": "stdout",
     "output_type": "stream",
     "text": [
      "Number of data points in train data: 2390\n",
      "Number of data points in test data: 665\n",
      "Number of data points in cross validation data: 266\n"
     ]
    }
   ],
   "source": [
    "print('Number of data points in train data:', train_df.shape[0])\n",
    "print('Number of data points in test data:', test_df.shape[0])\n",
    "print('Number of data points in cross validation data:', cv_df.shape[0])"
   ]
  },
  {
   "cell_type": "markdown",
   "metadata": {},
   "source": [
    "** Distribution of yi's in Train, Test and Cross Validation datasets **"
   ]
  },
  {
   "cell_type": "code",
   "execution_count": 9,
   "metadata": {},
   "outputs": [
    {
     "name": "stderr",
     "output_type": "stream",
     "text": [
      "C:\\Anaconda3\\lib\\site-packages\\ipykernel_launcher.py:2: FutureWarning: sortlevel is deprecated, use sort_index(level=...)\n",
      "  \n",
      "C:\\Anaconda3\\lib\\site-packages\\ipykernel_launcher.py:3: FutureWarning: sortlevel is deprecated, use sort_index(level=...)\n",
      "  This is separate from the ipykernel package so we can avoid doing imports until\n",
      "C:\\Anaconda3\\lib\\site-packages\\ipykernel_launcher.py:4: FutureWarning: sortlevel is deprecated, use sort_index(level=...)\n",
      "  after removing the cwd from sys.path.\n"
     ]
    }
   ],
   "source": [
    "# it returns a dict, keys as class labels and values as the number of data points in that class\n",
    "train_class_dist = train_df['Class'].value_counts().sortlevel()\n",
    "test_class_distribution = test_df['Class'].value_counts().sortlevel()\n",
    "cv_class_distribution = cv_df['Class'].value_counts().sortlevel()"
   ]
  },
  {
   "cell_type": "code",
   "execution_count": 10,
   "metadata": {},
   "outputs": [
    {
     "data": {
      "image/png": "[encoded data removed]",
      "text/plain": [
       "<matplotlib.figure.Figure at 0x1ee814f9048>"
      ]
     },
     "metadata": {},
     "output_type": "display_data"
    }
   ],
   "source": [
    "my_colors = 'rgbkymc'\n",
    "train_class_dist.plot(kind='bar', color=my_colors);\n",
    "plt.xlabel('Class')\n",
    "plt.ylabel('Data points per Class')\n",
    "plt.title('Distribution of yi in train data')\n",
    "plt.show()"
   ]
  },
  {
   "cell_type": "code",
   "execution_count": 13,
   "metadata": {},
   "outputs": [
    {
     "name": "stdout",
     "output_type": "stream",
     "text": [
      "Number of data points in class 7 : 686 ( 28.703 %)\n",
      "Number of data points in class 4 : 494 ( 20.669 %)\n",
      "Number of data points in class 1 : 408 ( 17.071 %)\n",
      "Number of data points in class 2 : 325 ( 13.598 %)\n",
      "Number of data points in class 6 : 198 ( 8.285 %)\n",
      "Number of data points in class 5 : 175 ( 7.322 %)\n",
      "Number of data points in class 3 : 64 ( 2.678 %)\n",
      "Number of data points in class 9 : 27 ( 1.13 %)\n",
      "Number of data points in class 8 : 13 ( 0.544 %)\n"
     ]
    },
    {
     "data": {
      "image/png": "[encoded data removed]",
      "text/plain": [
       "<matplotlib.figure.Figure at 0x1ee836a25c0>"
      ]
     },
     "metadata": {},
     "output_type": "display_data"
    },
    {
     "name": "stdout",
     "output_type": "stream",
     "text": [
      "Number of data points in class 7 : 191 ( 28.722 %)\n",
      "Number of data points in class 4 : 137 ( 20.602 %)\n",
      "Number of data points in class 1 : 114 ( 17.143 %)\n",
      "Number of data points in class 2 : 91 ( 13.684 %)\n",
      "Number of data points in class 6 : 55 ( 8.271 %)\n",
      "Number of data points in class 5 : 48 ( 7.218 %)\n",
      "Number of data points in class 3 : 18 ( 2.707 %)\n",
      "Number of data points in class 9 : 7 ( 1.053 %)\n",
      "Number of data points in class 8 : 4 ( 0.602 %)\n",
      "--------------------------------------------------------------------------------\n"
     ]
    },
    {
     "data": {
      "image/png": "[encoded data removed]",
      "text/plain": [
       "<matplotlib.figure.Figure at 0x1ee8375d400>"
      ]
     },
     "metadata": {},
     "output_type": "display_data"
    },
    {
     "name": "stdout",
     "output_type": "stream",
     "text": [
      "Number of data points in class 7 : 76 ( 28.571 %)\n",
      "Number of data points in class 4 : 55 ( 20.677 %)\n",
      "Number of data points in class 1 : 46 ( 17.293 %)\n",
      "Number of data points in class 2 : 36 ( 13.534 %)\n",
      "Number of data points in class 6 : 22 ( 8.271 %)\n",
      "Number of data points in class 5 : 19 ( 7.143 %)\n",
      "Number of data points in class 3 : 7 ( 2.632 %)\n",
      "Number of data points in class 9 : 3 ( 1.128 %)\n",
      "Number of data points in class 8 : 2 ( 0.752 %)\n"
     ]
    }
   ],
   "source": [
    "sorted_yi = np.argsort(-train_class_dist.values)\n",
    "for i in sorted_yi:\n",
    "    print('Number of data points in class', i+1, ':',train_class_dist.values[i], '(', np.round((train_class_dist.values[i]/train_df.shape[0]*100), 3), '%)')\n",
    "\n",
    "    \n",
    "test_class_distribution.plot(kind='bar', color='b')\n",
    "plt.xlabel('Class')\n",
    "plt.ylabel('Data points per Class')\n",
    "plt.title('Distribution of yi in test data')\n",
    "plt.grid()\n",
    "plt.show()    \n",
    "\n",
    "sorted_yi = np.argsort(-test_class_distribution.values)\n",
    "for i in sorted_yi:\n",
    "    print('Number of data points in class', i+1, ':',test_class_distribution.values[i], '(', np.round((test_class_distribution.values[i]/test_df.shape[0]*100), 3), '%)')\n",
    "\n",
    "print('-'*80)\n",
    "my_colors = 'rgbkymc'\n",
    "cv_class_distribution.plot(kind='bar', color='k')\n",
    "plt.xlabel('Class')\n",
    "plt.ylabel('Data points per Class')\n",
    "plt.title('Distribution of yi in cross validation data')\n",
    "plt.grid()\n",
    "plt.show()\n",
    "\n",
    "sorted_yi = np.argsort(-train_class_dist.values)\n",
    "for i in sorted_yi:\n",
    "    print('Number of data points in class', i+1, ':',cv_class_distribution.values[i], '(', np.round((cv_class_distribution.values[i]/cv_df.shape[0]*100), 3), '%)')\n"
   ]
  },
  {
   "cell_type": "markdown",
   "metadata": {},
   "source": [
    "Observations: \n",
    "- We can see in all the distributions\n",
    "    - class 3,5,8,7 are the minority class\n",
    "    - they have the least data "
   ]
  },
  {
   "cell_type": "markdown",
   "metadata": {},
   "source": [
    "### Encoding of the data\n",
    "- We are going to use \n",
    "    - onehotencoding ie. Bag of words model\n",
    "    - Tfidf\n",
    "    - Tfidf Word2Vec(google's model)\n",
    "    \n",
    "** 1. OnehotEncoding **"
   ]
  },
  {
   "cell_type": "code",
   "execution_count": 18,
   "metadata": {},
   "outputs": [],
   "source": [
    "from sklearn.feature_extraction.text import CountVectorizer\n"
   ]
  },
  {
   "cell_type": "code",
   "execution_count": 19,
   "metadata": {
    "collapsed": true
   },
   "outputs": [],
   "source": [
    "# GENE feature\n",
    "gene_vectorizer = CountVectorizer(ngram_range=(1,2))\n",
    "train_gene_onehot = gene_vectorizer.fit_transform(train_df['Gene'])\n",
    "test_gene_onehot = gene_vectorizer.transform(test_df['Gene'])\n",
    "cv_gene_onehot = gene_vectorizer.transform(cv_df['Gene'])"
   ]
  },
  {
   "cell_type": "code",
   "execution_count": 21,
   "metadata": {},
   "outputs": [
    {
     "name": "stdout",
     "output_type": "stream",
     "text": [
      "train df shape:  (2390, 6)\n",
      "test df shape:  (665, 6)\n",
      "cv df shape:  (266, 6)\n",
      "--------------------------------\n",
      "train onehot encoded shape: (2390, 241)\n",
      "test onehot encoded shape: (665, 241)\n",
      "cv onehot encoded shape: (266, 241)\n"
     ]
    }
   ],
   "source": [
    "# original data shape\n",
    "print(\"train df shape: \",train_df.shape)\n",
    "print(\"test df shape: \",test_df.shape)\n",
    "print(\"cv df shape: \",cv_df.shape)\n",
    "print(\"--------------------------------\")\n",
    "# After response coding\n",
    "print(\"train onehot encoded shape:\",train_gene_onehot.shape)\n",
    "print(\"test onehot encoded shape:\",test_gene_onehot.shape)\n",
    "print(\"cv onehot encoded shape:\",cv_gene_onehot.shape)"
   ]
  },
  {
   "cell_type": "code",
   "execution_count": 25,
   "metadata": {
    "collapsed": true
   },
   "outputs": [],
   "source": [
    "# Variation\n",
    "variation_vectorizer = CountVectorizer(ngram_range=(1,2))\n",
    "train_var_onehot = variation_vectorizer.fit_transform(train_df['Variation'])\n",
    "test_var_onehot = variation_vectorizer.transform(test_df['Variation'])\n",
    "cv_var_onehot = variation_vectorizer.transform(cv_df['Variation'])"
   ]
  },
  {
   "cell_type": "code",
   "execution_count": 29,
   "metadata": {},
   "outputs": [],
   "source": [
    "# Text\n",
    "text_vectorizer = CountVectorizer(min_df=3,ngram_range=(1,2))\n",
    "train_text_onehot = text_vectorizer.fit_transform(train_df['TEXT'])\n",
    "train_text_onehot = normalize(train_text_onehot, axis=0)\n",
    "\n",
    "test_text_onehot = text_vectorizer.transform(test_df['TEXT'])\n",
    "test_text_onehot = normalize(test_text_onehot, axis=0)\n",
    "\n",
    "cv_text_onehot = text_vectorizer.transform(cv_df['TEXT'])\n",
    "cv_text_onehot = normalize(cv_text_onehot, axis=0)"
   ]
  },
  {
   "cell_type": "code",
   "execution_count": 33,
   "metadata": {},
   "outputs": [
    {
     "name": "stdout",
     "output_type": "stream",
     "text": [
      "One hot encoding features :\n",
      "train data =  (2390, 847072)\n",
      "test data =  (665, 847072)\n",
      "cross validation data = (266, 847072)\n"
     ]
    }
   ],
   "source": [
    "# Stacking the three features using hstack\n",
    "# we will use scipy.sparse.hstack for onehot as it is sparse \n",
    "from scipy.sparse import hstack\n",
    "\n",
    "train_onehot = hstack((train_gene_onehot,train_var_onehot))\n",
    "train_onehot = hstack((train_onehot,train_text_onehot))\n",
    "\n",
    "test_onehot = hstack((test_gene_onehot,test_var_onehot))\n",
    "test_onehot = hstack((test_onehot,test_text_onehot))\n",
    "\n",
    "cv_onehot = hstack((cv_gene_onehot,cv_var_onehot))\n",
    "cv_onehot = hstack((cv_onehot, cv_text_onehot))\n",
    "\n",
    "print(\"One hot encoding features :\")\n",
    "print(\"train data = \", train_onehot.shape)\n",
    "print(\"test data = \", test_onehot.shape)\n",
    "print(\"cross validation data =\", cv_onehot.shape)"
   ]
  },
  {
   "cell_type": "markdown",
   "metadata": {},
   "source": [
    "** 2. TF-IDF **"
   ]
  },
  {
   "cell_type": "code",
   "execution_count": 43,
   "metadata": {
    "collapsed": true
   },
   "outputs": [],
   "source": [
    "# Gene\n",
    "tfidf_gene_vect = TfidfVectorizer(ngram_range=(1,2))\n",
    "train_gene_tfidf = tfidf_gene_vect.fit_transform(train_df['Variation'])\n",
    "test_gene_tfidf = tfidf_gene_vect.transform(test_df['Variation'])\n",
    "cv_gene_tfidf = tfidf_gene_vect.transform(cv_df['Variation'])"
   ]
  },
  {
   "cell_type": "code",
   "execution_count": 35,
   "metadata": {
    "collapsed": true
   },
   "outputs": [],
   "source": [
    "# Variation\n",
    "tfidf_var_vect = TfidfVectorizer(ngram_range=(1,2))\n",
    "train_var_tfidf = tfidf_var_vect.fit_transform(train_df['Variation'])\n",
    "test_var_tfidf = tfidf_var_vect.transform(test_df['Variation'])\n",
    "cv_var_tfidf = tfidf_var_vect.transform(cv_df['Variation'])"
   ]
  },
  {
   "cell_type": "code",
   "execution_count": 53,
   "metadata": {
    "collapsed": true
   },
   "outputs": [],
   "source": [
    "# Text\n",
    "tfidf_text_vect = TfidfVectorizer(min_df=3,ngram_range=(1,2))\n",
    "train_text_tfidf = tfidf_text_vect.fit_transform(train_df['TEXT'])\n",
    "train_text_tfidf = normalize(test_text_tfidf, axis=0)\n",
    "\n",
    "test_text_tfidf = tfidf_text_vect.transform(test_df['TEXT'])\n",
    "test_text_tfidf = normalize(test_text_tfidf, axis=0)\n",
    "\n",
    "cv_text_tfidf = tfidf_text_vect.transform(cv_df['TEXT'])\n",
    "cv_text_tfidf = normalize(cv_text_tfidf, axis=0)"
   ]
  },
  {
   "cell_type": "code",
   "execution_count": 39,
   "metadata": {},
   "outputs": [
    {
     "name": "stdout",
     "output_type": "stream",
     "text": [
      "One hot encoding features :\n",
      "train data =  (2390, 849142)\n",
      "test data =  (665, 849142)\n",
      "cross validation data = (266, 849142)\n"
     ]
    }
   ],
   "source": [
    "# Stacking the three features using hstack\n",
    "# we will use scipy.sparse.hstack for onehot as it is sparse \n",
    "from scipy.sparse import hstack\n",
    "\n",
    "train_tfidf = hstack((train_gene_tfidf,train_var_tfidf))\n",
    "train_tfidf = hstack((train_tfidf,train_text_tfidf))\n",
    "\n",
    "test_tfidf = hstack((test_gene_tfidf,test_var_tfidf))\n",
    "test_tfidf = hstack((test_tfidf,test_text_tfidf))\n",
    "\n",
    "cv_tfidf = hstack((cv_gene_tfidf,cv_var_tfidf))\n",
    "cv_tfidf = hstack((cv_tfidf, cv_text_tfidf))\n",
    "\n",
    "print(\"One hot encoding features :\")\n",
    "print(\"train data = \", train_tfidf.shape)\n",
    "print(\"test data = \", test_tfidf.shape)\n",
    "print(\"cross validation data =\", cv_tfidf.shape)"
   ]
  },
  {
   "cell_type": "markdown",
   "metadata": {},
   "source": [
    "** 3. Word2Vec **\n",
    "- we will use googles word2vec model"
   ]
  },
  {
   "cell_type": "code",
   "execution_count": 41,
   "metadata": {},
   "outputs": [
    {
     "name": "stderr",
     "output_type": "stream",
     "text": [
      "C:\\Anaconda3\\lib\\site-packages\\gensim\\utils.py:1209: UserWarning: detected Windows; aliasing chunkize to chunkize_serial\n",
      "  warnings.warn(\"detected Windows; aliasing chunkize to chunkize_serial\")\n"
     ]
    }
   ],
   "source": [
    "from gensim.models import Word2Vec\n",
    "from gensim.models import KeyedVectors"
   ]
  },
  {
   "cell_type": "code",
   "execution_count": 42,
   "metadata": {
    "collapsed": true
   },
   "outputs": [],
   "source": [
    "model = KeyedVectors.load_word2vec_format(\"./data/Google-W2V/GoogleNews-vectors-negative300.bin\",binary=True)"
   ]
  },
  {
   "cell_type": "code",
   "execution_count": 45,
   "metadata": {
    "collapsed": true
   },
   "outputs": [],
   "source": [
    "def get_tfidf_vect(data,tfidf_column,tfidf_vect):\n",
    "    tfidf_features = tfidf_vect.get_feature_names()  \n",
    "    tfidf_sent_vectors = [] \n",
    "    row =0\n",
    "    for sent in data: \n",
    "        sent_vec = np.zeros(300)\n",
    "        weight_sum =0 \n",
    "        for word in sent.split(\" \"): \n",
    "            try:\n",
    "                vec = model.wv[word]\n",
    "                # obtain the tf_idf of a word\n",
    "                tfidf = tfidf_column[row, tfidf_features.index(word)]\n",
    "                sent_vec += (vec*tfidf)\n",
    "                weight_sum += tfidf\n",
    "            except:\n",
    "                pass\n",
    "        sent_vec /= weight_sum\n",
    "        tfidf_sent_vectors.append(sent_vec)\n",
    "        row+=1\n",
    "    return tfidf_sent_vectors"
   ]
  },
  {
   "cell_type": "code",
   "execution_count": 62,
   "metadata": {
    "collapsed": true
   },
   "outputs": [
    {
     "name": "stderr",
     "output_type": "stream",
     "text": [
      "C:\\Anaconda3\\lib\\site-packages\\ipykernel_launcher.py:10: DeprecationWarning: Call to deprecated `wv` (Attribute will be removed in 4.0.0, use self instead).\n",
      "  # Remove the CWD from sys.path while we load stuff.\n",
      "C:\\Anaconda3\\lib\\site-packages\\ipykernel_launcher.py:17: RuntimeWarning: invalid value encountered in true_divide\n"
     ]
    }
   ],
   "source": [
    "# for Gene\n",
    "train_gene_w2v = get_tfidf_vect(train_df['Gene'],train_gene_tfidf,tfidf_gene_vect)\n",
    "test_gene_w2v = get_tfidf_vect(test_df['Gene'],test_gene_tfidf,tfidf_gene_vect)\n",
    "cv_gene_w2v = get_tfidf_vect(cv_df['Gene'],cv_gene_tfidf,tfidf_gene_vect)"
   ]
  },
  {
   "cell_type": "code",
   "execution_count": 64,
   "metadata": {},
   "outputs": [
    {
     "data": {
      "text/plain": [
       "(2390, 300)"
      ]
     },
     "execution_count": 64,
     "metadata": {},
     "output_type": "execute_result"
    }
   ],
   "source": [
    "# getting to know the shapes\n",
    "np.array(train_gene_w2v).shape\n",
    "# so google's model gives us a 300-D data"
   ]
  },
  {
   "cell_type": "code",
   "execution_count": 65,
   "metadata": {
    "collapsed": true
   },
   "outputs": [
    {
     "name": "stderr",
     "output_type": "stream",
     "text": [
      "C:\\Anaconda3\\lib\\site-packages\\ipykernel_launcher.py:10: DeprecationWarning: Call to deprecated `wv` (Attribute will be removed in 4.0.0, use self instead).\n",
      "  # Remove the CWD from sys.path while we load stuff.\n",
      "C:\\Anaconda3\\lib\\site-packages\\ipykernel_launcher.py:17: RuntimeWarning: invalid value encountered in true_divide\n"
     ]
    }
   ],
   "source": [
    "# For Variation\n",
    "train_var_w2v = get_tfidf_vect(train_df['Variation'],train_var_tfidf,tfidf_var_vect)\n",
    "test_var_w2v = get_tfidf_vect(test_df['Variation'],test_var_tfidf,tfidf_var_vect)\n",
    "cv_var_w2v = get_tfidf_vect(cv_df['Variation'],cv_var_tfidf,tfidf_var_vect)"
   ]
  },
  {
   "cell_type": "code",
   "execution_count": null,
   "metadata": {},
   "outputs": [
    {
     "name": "stderr",
     "output_type": "stream",
     "text": [
      "C:\\Anaconda3\\lib\\site-packages\\ipykernel_launcher.py:10: DeprecationWarning: Call to deprecated `wv` (Attribute will be removed in 4.0.0, use self instead).\n",
      "  # Remove the CWD from sys.path while we load stuff.\n"
     ]
    }
   ],
   "source": [
    "# For Text\n",
    "train_text_w2v = get_tfidf_vect(train_df['TEXT'],train_text_tfidf,tfidf_text_vect)\n",
    "test_text_w2v = get_tfidf_vect(test_df['TEXT'],test_text_tfidf,tfidf_text_vect)\n",
    "cv_text_w2v = get_tfidf_vect(cv_df['TEXT'],cv_text_tfidf,tfidf_text_vect)"
   ]
  },
  {
   "cell_type": "code",
   "execution_count": null,
   "metadata": {
    "collapsed": true
   },
   "outputs": [],
   "source": [
    "# Stacking the three together\n",
    "# now this is not sparse .'. we will use np.hstack \n",
    "from numpy import hstack\n",
    "model."
   ]
  },
  {
   "cell_type": "markdown",
   "metadata": {},
   "source": [
    "## Univariate Analysis\n",
    "\n",
    "- To check how good a feature is for predicting y_i we will build models with the features and compare with the random model\n",
    "\n",
    "** Random Model **"
   ]
  },
  {
   "cell_type": "code",
   "execution_count": null,
   "metadata": {
    "collapsed": true
   },
   "outputs": [],
   "source": [
    "test_data_len = test_df.shape[0]\n",
    "cv_data_len = cv_df.shape[0]\n",
    "\n",
    "# we create a output array that has exaclty same size as CV data\n",
    "cv_predicted_y = np.zeros((cv_data_len,9))"
   ]
  },
  {
   "cell_type": "code",
   "execution_count": null,
   "metadata": {
    "collapsed": true
   },
   "outputs": [],
   "source": []
  }
 ],
 "metadata": {
  "kernelspec": {
   "display_name": "Python 3",
   "language": "python",
   "name": "python3"
  },
  "language_info": {
   "codemirror_mode": {
    "name": "ipython",
    "version": 3
   },
   "file_extension": ".py",
   "mimetype": "text/x-python",
   "name": "python",
   "nbconvert_exporter": "python",
   "pygments_lexer": "ipython3",
   "version": "3.6.1"
  }
 },
 "nbformat": 4,
 "nbformat_minor": 2
}
